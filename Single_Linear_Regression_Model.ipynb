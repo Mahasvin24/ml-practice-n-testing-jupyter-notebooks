{
 "cells": [
  {
   "cell_type": "code",
   "execution_count": 2,
   "id": "ea09e0de-a522-412b-9fab-54c1a01a219e",
   "metadata": {},
   "outputs": [],
   "source": [
    "import numpy as np"
   ]
  },
  {
   "cell_type": "code",
   "execution_count": 82,
   "id": "2ac2a40d-33b5-4940-8112-b4374756e4b2",
   "metadata": {},
   "outputs": [],
   "source": [
    "# Load our data set\n",
    "x_train = np.array([1.0, 2.0, 1.5])   #features\n",
    "y_train = np.array([300.0, 500.0, 600.0])   #target value"
   ]
  },
  {
   "cell_type": "code",
   "execution_count": 83,
   "id": "52ab0ed5-076d-48ac-8ea6-26be38973b45",
   "metadata": {},
   "outputs": [],
   "source": [
    "# f = w * x + b\n",
    "w = 0\n",
    "b = 0\n",
    "m = x_train.shape[0]\n",
    "alpha = 1.0e-2"
   ]
  },
  {
   "cell_type": "code",
   "execution_count": 84,
   "id": "e7e40a88-0257-478a-8a0a-642656d77573",
   "metadata": {},
   "outputs": [],
   "source": [
    "# Cost function\n",
    "def cost(x: list, y: list, w, b):\n",
    "    predictions = w * x + b\n",
    "\n",
    "    error = 1 / (2 * m)\n",
    "    summation = 0\n",
    "    for i in range(m):\n",
    "        summation += (predictions[i] - y[i]) ** 2\n",
    "    error *= summation\n",
    "\n",
    "    return error"
   ]
  },
  {
   "cell_type": "code",
   "execution_count": 85,
   "id": "d6e8e0fd-a2ec-4f2d-a4cd-f81c642d7b6b",
   "metadata": {},
   "outputs": [],
   "source": [
    "# Partial derivatives\n",
    "def dJ_dw(x: list, y: list, w, b):\n",
    "    predictions = w * x + b\n",
    "\n",
    "    partial = 1 / m\n",
    "    summation = 0\n",
    "    for i in range(m):\n",
    "        summation += (predictions[i] - y[i]) * x[i]\n",
    "    partial *= summation\n",
    "\n",
    "    return partial\n",
    "\n",
    "def dJ_db(x: list, y: list, w, b):\n",
    "    predictions = w * x + b\n",
    "\n",
    "    partial = 1 / m\n",
    "    summation = 0\n",
    "    for i in range(m):\n",
    "        summation += (predictions[i] - y[i]) \n",
    "    partial *= summation\n",
    "\n",
    "    return partial"
   ]
  },
  {
   "cell_type": "code",
   "execution_count": 86,
   "id": "e1078954-a781-4350-9821-53d4e4be0f12",
   "metadata": {},
   "outputs": [],
   "source": [
    "# Singular gradient descend\n",
    "def descend(x: list, y: list, w, b, alpha):\n",
    "    w_temp = w - alpha * dJ_dw(x, y, w, b)\n",
    "    b_temp = b - alpha * dJ_db(x, y, w, b)\n",
    "    w, b = w_temp, b_temp\n",
    "    return w, b"
   ]
  },
  {
   "cell_type": "code",
   "execution_count": 87,
   "id": "9596c709-4eb1-413a-80d5-eaf376f5729c",
   "metadata": {},
   "outputs": [],
   "source": [
    "# Gradient descent\n",
    "def gradient_descent(x: list, y: list, w, b, alpha, steps):\n",
    "    for i in range(steps):\n",
    "        if i == steps - 1:\n",
    "            print(cost(x, y, w, b))\n",
    "        w, b = descend(x, y, w, b, alpha)\n",
    "        if i == steps - 1:\n",
    "            print(f\"f = {w:.4f} * x + {b:.4f}\")"
   ]
  },
  {
   "cell_type": "code",
   "execution_count": 90,
   "id": "18ca8e52-7fa1-453b-a0ab-2e6232b44c37",
   "metadata": {},
   "outputs": [
    {
     "name": "stdout",
     "output_type": "stream",
     "text": [
      "4444.444444444443\n",
      "f = 200.0000 * x + 166.6667\n"
     ]
    }
   ],
   "source": [
    "gradient_descent(x_train, y_train, w, b, alpha, 100000)"
   ]
  },
  {
   "cell_type": "code",
   "execution_count": null,
   "id": "92cf64d4-ae3f-46da-b983-0d4e1e3e1bc6",
   "metadata": {},
   "outputs": [],
   "source": []
  }
 ],
 "metadata": {
  "kernelspec": {
   "display_name": "Python 3 (ipykernel)",
   "language": "python",
   "name": "python3"
  },
  "language_info": {
   "codemirror_mode": {
    "name": "ipython",
    "version": 3
   },
   "file_extension": ".py",
   "mimetype": "text/x-python",
   "name": "python",
   "nbconvert_exporter": "python",
   "pygments_lexer": "ipython3",
   "version": "3.13.1"
  }
 },
 "nbformat": 4,
 "nbformat_minor": 5
}
