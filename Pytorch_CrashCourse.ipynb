{
 "cells": [
  {
   "cell_type": "markdown",
   "id": "da3c8517",
   "metadata": {},
   "source": [
    "Practice Notebook Concepts:\n",
    "1. Tensor Basics\n",
    "2. Autograd w/ torch\n",
    "3. Neural Network (for MNIST)\n",
    "4. CNN (for MNIST)"
   ]
  },
  {
   "cell_type": "code",
   "execution_count": 2,
   "id": "4a65ab19",
   "metadata": {},
   "outputs": [],
   "source": [
    "# Imports\n",
    "import torch\n",
    "import numpy as np\n",
    "device = torch.device(\"mps\")"
   ]
  },
  {
   "cell_type": "code",
   "execution_count": null,
   "id": "8f35724f",
   "metadata": {},
   "outputs": [],
   "source": [
    "# Making arrays / matricies / tensors\n",
    "x1 = torch.empty(3, 3, 3)\n",
    "x2 = torch.zeros(5)\n",
    "x3 = torch.ones(5)\n",
    "x4 = torch.rand(5, dtype=torch.float16)\n",
    "\n",
    "# Shape / size\n",
    "a = x1.size()\n",
    "b = x1.shape\n",
    "print(a)\n",
    "print(b)\n",
    "\n",
    "# Tensors\n",
    "x = torch.tensor([5, 3], requires_grad=True) # requires_grad tells torch whether you need it to calculate gradient for later (defualt is False)\n",
    "y = torch.tensor([4, 9])\n",
    "\n",
    "print(x + y) # element wise addition\n",
    "print(y.add(x))\n",
    "print(y)\n",
    "print(y.add_(x)) # adding in place\n",
    "print(y)"
   ]
  },
  {
   "cell_type": "code",
   "execution_count": null,
   "id": "daeb4648",
   "metadata": {},
   "outputs": [],
   "source": [
    "# Slicing\n",
    "x = torch.rand(5, 3)\n",
    "print(x[:, 0]) # all rows, column 0\n",
    "print(x[1, :]) # first row, all columns\n",
    "print(x[1, 1]) # --> returns a tensor\n",
    "print(x[1, 1].item()) # --> returns a float value"
   ]
  },
  {
   "cell_type": "code",
   "execution_count": null,
   "id": "67d470e5",
   "metadata": {},
   "outputs": [],
   "source": [
    "# Reshape\n",
    "x = torch.randn(4, 4)\n",
    "y = x.view(16)\n",
    "z = x.view(-1, 8) # -1 tells torch to figure it out based on other dims\n",
    "\n",
    "print(x.shape[0], y.shape, z.shape)"
   ]
  },
  {
   "cell_type": "code",
   "execution_count": null,
   "id": "52cc7975",
   "metadata": {},
   "outputs": [],
   "source": [
    "# Torch to numpy\n",
    "# Note: If the tensor is on the CPU (instead of GPU) \n",
    "# both objects will share memory, so changing one \n",
    "# changes the other.\n",
    "t = torch.ones(4)\n",
    "n = t.numpy()\n",
    "t[0] = 2\n",
    "print(f\"{t}\\n{n}\")\n"
   ]
  },
  {
   "cell_type": "code",
   "execution_count": null,
   "id": "72b724d6",
   "metadata": {},
   "outputs": [],
   "source": [
    "# Numpy to torch\n",
    "n = np.ones(5)\n",
    "t = torch.from_numpy(n) # points to same array\n",
    "t2 = torch.tensor(n) # makes a copy of array \n",
    "n[0] = 2\n",
    "\n",
    "print(f\"{n}\\n{t}\\n{t2}\")"
   ]
  },
  {
   "cell_type": "code",
   "execution_count": null,
   "id": "7a1672e8",
   "metadata": {},
   "outputs": [],
   "source": [
    "# GPU\n",
    "device = torch.device(\"mps\")\n",
    "n = np.ones(5, dtype=np.float32)\n",
    "t = torch.zeros(3, 3, 3,).to(device) # make on CPU, move to GPU\n",
    "t2 = torch.zeros(3, 3, 3, device=device)\n",
    "n[0] = 2"
   ]
  },
  {
   "cell_type": "markdown",
   "id": "068fe9ba",
   "metadata": {},
   "source": [
    "2. Autograd - The autograd package provide automatic differentiation. (Applies partial derivatives while applying the chain rule.)"
   ]
  },
  {
   "cell_type": "code",
   "execution_count": null,
   "id": "bef3028a",
   "metadata": {},
   "outputs": [
    {
     "name": "stdout",
     "output_type": "stream",
     "text": [
      "tensor([6.])\n",
      "tensor([33.])\n"
     ]
    }
   ],
   "source": [
    "x = torch.tensor([3.0], requires_grad=True)\n",
    "y = x ** 2 + 2\n",
    "\n",
    "y.sum().backward() # does all the backprop\n",
    "print(x.grad) # dy/dx\n",
    "\n",
    "\"\"\"\n",
    "!!! backward() accumulates the gradient for this tesnor into .grad !!!\n",
    "!!! make sure to clear this each time with optimizer.zero_grad() !!!\n",
    "\"\"\"\n",
    "\n",
    "# To stop autograd:\n",
    "# x.requires_grad_(False)\n",
    "# x.detach() - creates a copy with requires_grad=False\n",
    "# wrap in \"with torch.no_grad():\""
   ]
  },
  {
   "cell_type": "code",
   "execution_count": 3,
   "id": "c50c6423",
   "metadata": {},
   "outputs": [
    {
     "name": "stdout",
     "output_type": "stream",
     "text": [
      "Starting prediction: 5.0 --> 0.0\n"
     ]
    }
   ],
   "source": [
    "\"\"\" Linear Regression with Autograd \"\"\"\n",
    "\n",
    "# Training examples (actual model should give y = 2 * x)\n",
    "X = torch.tensor([1, 2, 3, 4, 5, 6, 7, 8], dtype=torch.float32)\n",
    "Y = torch.tensor([2, 3, 6, 8, 10, 12, 14, 16], dtype=torch.float32)\n",
    "\n",
    "w = torch.tensor(0.0, dtype=torch.float32, requires_grad=True)\n",
    "b = 0\n",
    "\n",
    "# forward method\n",
    "def forward(x):\n",
    "    return w * x + b\n",
    "\n",
    "# loss (using mean squared error, MSE)\n",
    "def loss(y, y_hat):\n",
    "    return ((y - y_hat) ** 2).mean()\n",
    "\n",
    "X_test = 5.0\n",
    "\n",
    "print(f\"Starting prediction: {X_test} --> {forward(X_test)}\")"
   ]
  },
  {
   "cell_type": "code",
   "execution_count": null,
   "id": "cb18b2cd",
   "metadata": {},
   "outputs": [],
   "source": []
  }
 ],
 "metadata": {
  "kernelspec": {
   "display_name": "Python 3 (ipykernel)",
   "language": "python",
   "name": "python3"
  },
  "language_info": {
   "codemirror_mode": {
    "name": "ipython",
    "version": 3
   },
   "file_extension": ".py",
   "mimetype": "text/x-python",
   "name": "python",
   "nbconvert_exporter": "python",
   "pygments_lexer": "ipython3",
   "version": "3.13.1"
  }
 },
 "nbformat": 4,
 "nbformat_minor": 5
}
