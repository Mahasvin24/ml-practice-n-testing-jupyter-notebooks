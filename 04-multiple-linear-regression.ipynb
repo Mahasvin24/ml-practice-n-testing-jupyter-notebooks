{
 "cells": [
  {
   "cell_type": "code",
   "execution_count": 34,
   "id": "94995ea6-13cb-49bf-93fb-3dc19b75f099",
   "metadata": {},
   "outputs": [],
   "source": [
    "# Imports\n",
    "import numpy as np"
   ]
  },
  {
   "cell_type": "code",
   "execution_count": 100,
   "id": "5a6b1424-8522-4aac-ba27-e960aa565b06",
   "metadata": {},
   "outputs": [],
   "source": [
    "# Training Data\n",
    "x_train = np.array([\n",
    "    [2104, 3, 1, 45],\n",
    "    [1600, 3, 2, 40],\n",
    "    [2400, 3, 2, 30],\n",
    "    [1416, 2, 1, 20],\n",
    "    [3000, 4, 2, 8],\n",
    "    [1985, 4, 1, 15],\n",
    "    [1534, 3, 2, 25],\n",
    "    [1427, 3, 1, 30],\n",
    "    [1380, 3, 1, 25],\n",
    "    [1494, 3, 1, 22]\n",
    "])\n",
    "\n",
    "y_train = np.array([\n",
    "    399900,\n",
    "    329900,\n",
    "    369000,\n",
    "    232000,\n",
    "    539900,\n",
    "    299900,\n",
    "    314900,\n",
    "    198999,\n",
    "    212000,\n",
    "    242500\n",
    "])"
   ]
  },
  {
   "cell_type": "code",
   "execution_count": 102,
   "id": "7e1838eb-901d-4e08-98aa-20876ff24e19",
   "metadata": {},
   "outputs": [
    {
     "name": "stdout",
     "output_type": "stream",
     "text": [
      "22445363592.118828\n",
      "695668942.4657913\n",
      "694411524.8698481\n",
      "693597229.7386868\n",
      "692795395.3315287\n",
      "691997680.7976923\n",
      "691203902.9254571\n",
      "690414036.2155776\n",
      "689628058.3544518\n",
      "688845947.2283089\n",
      "\n",
      "w = [ 165.89001685 -536.64083745  670.19494896  497.82130419] \n",
      "b = -228.86668146522737\n",
      "\n",
      "213102.38551445203\n"
     ]
    }
   ],
   "source": [
    "# Running the algorithm\n",
    "m, n = x_train.shape\n",
    "w = np.zeros(n)\n",
    "b = 0\n",
    "alpha = 1e-7\n",
    "w, b = gradient_descent(x_train, y_train, w, b, alpha, 1000000)\n",
    "\n",
    "print(f\"\\nw = {w} \\nb = {b}\\n\")\n",
    "\n",
    "# ['size(sqft)','bedrooms','floors','age']\n",
    "predict([1200, 2.5, 1, 30])"
   ]
  },
  {
   "cell_type": "code",
   "execution_count": 101,
   "id": "e49932df-9171-4db4-86e5-400ccf211b7a",
   "metadata": {},
   "outputs": [],
   "source": [
    "# Multiple linear regression function\n",
    "def f(w: list, b, x_i):\n",
    "    \"\"\" \n",
    "    f = (w_0 * x_0 + w_1 * x_1 + ... + w_n + x_n) + b\n",
    "    f = vector w (dot) vector x + b\n",
    "    \"\"\"\n",
    "    return np.dot(w, x_i) + b\n",
    "\n",
    "# Cost\n",
    "def cost(x, y, w, b):\n",
    "    m = x.shape[0]\n",
    "    tot = 0\n",
    "    for i in range(m):\n",
    "        tot += (f(w, b, x[i]) - y[i]) ** 2\n",
    "    return tot / (2 * m)\n",
    "\n",
    "# Partial derivatives\n",
    "def dJ_dw_j(x, y, w, b, j):\n",
    "    m = x.shape[0]\n",
    "    partial = 0\n",
    "    for i in range(m): # summation\n",
    "        partial += (f(w, b, x[i]) - y[i]) * x[i][j]\n",
    "    return partial / m\n",
    "\n",
    "def dJ_db(x, y, w, b):\n",
    "    m = x.shape[0]\n",
    "    partial = 0\n",
    "    for i in range(m): # summation\n",
    "        partial += f(w, b, x[i]) - y[i]\n",
    "    return partial / m\n",
    "\n",
    "# Gradient Descent\n",
    "def gradient_descent(x, y, w, b, alpha, loops):\n",
    "    n = w.shape[0]\n",
    "    prevcost = cost(x, y, w, b)\n",
    "    \n",
    "    for i in range(loops): # repeating gradient descent\n",
    "        \n",
    "        # Storing partials for each feature\n",
    "        partials = np.zeros(n)\n",
    "        for j in range(n):\n",
    "            partials[j] = dJ_dw_j(x, y, w, b, j)\n",
    "\n",
    "        # Updating features\n",
    "        for j in range(n):\n",
    "            w[j] = w[j] - alpha * partials[j]\n",
    "        b = b - alpha * dJ_db(x, y, w, b)\n",
    "\n",
    "        # Printing cost\n",
    "        if i % (loops / 10) == 0:\n",
    "            print(cost(x, y, w, b))\n",
    "\n",
    "    return w, b # returning finalized weights and bias\n",
    "\n",
    "# Prediction method\n",
    "def predict(x_i):\n",
    "    print(f(w, b, x_i))"
   ]
  },
  {
   "cell_type": "code",
   "execution_count": null,
   "id": "74046fba-aae9-4ad1-9a6f-5edee997a300",
   "metadata": {},
   "outputs": [],
   "source": []
  }
 ],
 "metadata": {
  "kernelspec": {
   "display_name": "Python 3 (ipykernel)",
   "language": "python",
   "name": "python3"
  },
  "language_info": {
   "codemirror_mode": {
    "name": "ipython",
    "version": 3
   },
   "file_extension": ".py",
   "mimetype": "text/x-python",
   "name": "python",
   "nbconvert_exporter": "python",
   "pygments_lexer": "ipython3",
   "version": "3.13.1"
  }
 },
 "nbformat": 4,
 "nbformat_minor": 5
}
